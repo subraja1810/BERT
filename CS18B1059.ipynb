{
  "nbformat": 4,
  "nbformat_minor": 0,
  "metadata": {
    "colab": {
      "name": "Untitled0.ipynb",
      "provenance": [],
      "collapsed_sections": [],
      "authorship_tag": "ABX9TyPXtV5kRYACOgZDAo3ppdvD",
      "include_colab_link": true
    },
    "kernelspec": {
      "name": "python3",
      "display_name": "Python 3"
    },
    "widgets": {
      "application/vnd.jupyter.widget-state+json": {
        "d7994ae217084b5786981c98df6a851f": {
          "model_module": "@jupyter-widgets/controls",
          "model_name": "HBoxModel",
          "state": {
            "_view_name": "HBoxView",
            "_dom_classes": [],
            "_model_name": "HBoxModel",
            "_view_module": "@jupyter-widgets/controls",
            "_model_module_version": "1.5.0",
            "_view_count": null,
            "_view_module_version": "1.5.0",
            "box_style": "",
            "layout": "IPY_MODEL_8ba45bf672c7400bb9bf1c3c6e700e0c",
            "_model_module": "@jupyter-widgets/controls",
            "children": [
              "IPY_MODEL_06f40899a1f64da3ad23e3924beb83e4",
              "IPY_MODEL_5e860c39d2e2427a85c0fcd6b3feaf5b"
            ]
          }
        },
        "8ba45bf672c7400bb9bf1c3c6e700e0c": {
          "model_module": "@jupyter-widgets/base",
          "model_name": "LayoutModel",
          "state": {
            "_view_name": "LayoutView",
            "grid_template_rows": null,
            "right": null,
            "justify_content": null,
            "_view_module": "@jupyter-widgets/base",
            "overflow": null,
            "_model_module_version": "1.2.0",
            "_view_count": null,
            "flex_flow": null,
            "width": null,
            "min_width": null,
            "border": null,
            "align_items": null,
            "bottom": null,
            "_model_module": "@jupyter-widgets/base",
            "top": null,
            "grid_column": null,
            "overflow_y": null,
            "overflow_x": null,
            "grid_auto_flow": null,
            "grid_area": null,
            "grid_template_columns": null,
            "flex": null,
            "_model_name": "LayoutModel",
            "justify_items": null,
            "grid_row": null,
            "max_height": null,
            "align_content": null,
            "visibility": null,
            "align_self": null,
            "height": null,
            "min_height": null,
            "padding": null,
            "grid_auto_rows": null,
            "grid_gap": null,
            "max_width": null,
            "order": null,
            "_view_module_version": "1.2.0",
            "grid_template_areas": null,
            "object_position": null,
            "object_fit": null,
            "grid_auto_columns": null,
            "margin": null,
            "display": null,
            "left": null
          }
        },
        "06f40899a1f64da3ad23e3924beb83e4": {
          "model_module": "@jupyter-widgets/controls",
          "model_name": "FloatProgressModel",
          "state": {
            "_view_name": "ProgressView",
            "style": "IPY_MODEL_8f5867b56e7149d6a515627fd3e98d0f",
            "_dom_classes": [],
            "description": "Downloading: 100%",
            "_model_name": "FloatProgressModel",
            "bar_style": "success",
            "max": 998,
            "_view_module": "@jupyter-widgets/controls",
            "_model_module_version": "1.5.0",
            "value": 998,
            "_view_count": null,
            "_view_module_version": "1.5.0",
            "orientation": "horizontal",
            "min": 0,
            "description_tooltip": null,
            "_model_module": "@jupyter-widgets/controls",
            "layout": "IPY_MODEL_cf7032e6ba0544678ccc2979782caab8"
          }
        },
        "5e860c39d2e2427a85c0fcd6b3feaf5b": {
          "model_module": "@jupyter-widgets/controls",
          "model_name": "HTMLModel",
          "state": {
            "_view_name": "HTMLView",
            "style": "IPY_MODEL_27b13b976a744f2382380cda023070df",
            "_dom_classes": [],
            "description": "",
            "_model_name": "HTMLModel",
            "placeholder": "​",
            "_view_module": "@jupyter-widgets/controls",
            "_model_module_version": "1.5.0",
            "value": " 998/998 [00:25&lt;00:00, 39.8B/s]",
            "_view_count": null,
            "_view_module_version": "1.5.0",
            "description_tooltip": null,
            "_model_module": "@jupyter-widgets/controls",
            "layout": "IPY_MODEL_7232dde721954dfbb2dc40b9d2cd31e6"
          }
        },
        "8f5867b56e7149d6a515627fd3e98d0f": {
          "model_module": "@jupyter-widgets/controls",
          "model_name": "ProgressStyleModel",
          "state": {
            "_view_name": "StyleView",
            "_model_name": "ProgressStyleModel",
            "description_width": "initial",
            "_view_module": "@jupyter-widgets/base",
            "_model_module_version": "1.5.0",
            "_view_count": null,
            "_view_module_version": "1.2.0",
            "bar_color": null,
            "_model_module": "@jupyter-widgets/controls"
          }
        },
        "cf7032e6ba0544678ccc2979782caab8": {
          "model_module": "@jupyter-widgets/base",
          "model_name": "LayoutModel",
          "state": {
            "_view_name": "LayoutView",
            "grid_template_rows": null,
            "right": null,
            "justify_content": null,
            "_view_module": "@jupyter-widgets/base",
            "overflow": null,
            "_model_module_version": "1.2.0",
            "_view_count": null,
            "flex_flow": null,
            "width": null,
            "min_width": null,
            "border": null,
            "align_items": null,
            "bottom": null,
            "_model_module": "@jupyter-widgets/base",
            "top": null,
            "grid_column": null,
            "overflow_y": null,
            "overflow_x": null,
            "grid_auto_flow": null,
            "grid_area": null,
            "grid_template_columns": null,
            "flex": null,
            "_model_name": "LayoutModel",
            "justify_items": null,
            "grid_row": null,
            "max_height": null,
            "align_content": null,
            "visibility": null,
            "align_self": null,
            "height": null,
            "min_height": null,
            "padding": null,
            "grid_auto_rows": null,
            "grid_gap": null,
            "max_width": null,
            "order": null,
            "_view_module_version": "1.2.0",
            "grid_template_areas": null,
            "object_position": null,
            "object_fit": null,
            "grid_auto_columns": null,
            "margin": null,
            "display": null,
            "left": null
          }
        },
        "27b13b976a744f2382380cda023070df": {
          "model_module": "@jupyter-widgets/controls",
          "model_name": "DescriptionStyleModel",
          "state": {
            "_view_name": "StyleView",
            "_model_name": "DescriptionStyleModel",
            "description_width": "",
            "_view_module": "@jupyter-widgets/base",
            "_model_module_version": "1.5.0",
            "_view_count": null,
            "_view_module_version": "1.2.0",
            "_model_module": "@jupyter-widgets/controls"
          }
        },
        "7232dde721954dfbb2dc40b9d2cd31e6": {
          "model_module": "@jupyter-widgets/base",
          "model_name": "LayoutModel",
          "state": {
            "_view_name": "LayoutView",
            "grid_template_rows": null,
            "right": null,
            "justify_content": null,
            "_view_module": "@jupyter-widgets/base",
            "overflow": null,
            "_model_module_version": "1.2.0",
            "_view_count": null,
            "flex_flow": null,
            "width": null,
            "min_width": null,
            "border": null,
            "align_items": null,
            "bottom": null,
            "_model_module": "@jupyter-widgets/base",
            "top": null,
            "grid_column": null,
            "overflow_y": null,
            "overflow_x": null,
            "grid_auto_flow": null,
            "grid_area": null,
            "grid_template_columns": null,
            "flex": null,
            "_model_name": "LayoutModel",
            "justify_items": null,
            "grid_row": null,
            "max_height": null,
            "align_content": null,
            "visibility": null,
            "align_self": null,
            "height": null,
            "min_height": null,
            "padding": null,
            "grid_auto_rows": null,
            "grid_gap": null,
            "max_width": null,
            "order": null,
            "_view_module_version": "1.2.0",
            "grid_template_areas": null,
            "object_position": null,
            "object_fit": null,
            "grid_auto_columns": null,
            "margin": null,
            "display": null,
            "left": null
          }
        },
        "cf856a6f00604232accb4df868eb7ab3": {
          "model_module": "@jupyter-widgets/controls",
          "model_name": "HBoxModel",
          "state": {
            "_view_name": "HBoxView",
            "_dom_classes": [],
            "_model_name": "HBoxModel",
            "_view_module": "@jupyter-widgets/controls",
            "_model_module_version": "1.5.0",
            "_view_count": null,
            "_view_module_version": "1.5.0",
            "box_style": "",
            "layout": "IPY_MODEL_b69656e539f34dfca7458731c0b2337f",
            "_model_module": "@jupyter-widgets/controls",
            "children": [
              "IPY_MODEL_b4c8090f863e4e4996277682c3ad3f07",
              "IPY_MODEL_cb837c131d86488d901ad74001c6dcfb"
            ]
          }
        },
        "b69656e539f34dfca7458731c0b2337f": {
          "model_module": "@jupyter-widgets/base",
          "model_name": "LayoutModel",
          "state": {
            "_view_name": "LayoutView",
            "grid_template_rows": null,
            "right": null,
            "justify_content": null,
            "_view_module": "@jupyter-widgets/base",
            "overflow": null,
            "_model_module_version": "1.2.0",
            "_view_count": null,
            "flex_flow": null,
            "width": null,
            "min_width": null,
            "border": null,
            "align_items": null,
            "bottom": null,
            "_model_module": "@jupyter-widgets/base",
            "top": null,
            "grid_column": null,
            "overflow_y": null,
            "overflow_x": null,
            "grid_auto_flow": null,
            "grid_area": null,
            "grid_template_columns": null,
            "flex": null,
            "_model_name": "LayoutModel",
            "justify_items": null,
            "grid_row": null,
            "max_height": null,
            "align_content": null,
            "visibility": null,
            "align_self": null,
            "height": null,
            "min_height": null,
            "padding": null,
            "grid_auto_rows": null,
            "grid_gap": null,
            "max_width": null,
            "order": null,
            "_view_module_version": "1.2.0",
            "grid_template_areas": null,
            "object_position": null,
            "object_fit": null,
            "grid_auto_columns": null,
            "margin": null,
            "display": null,
            "left": null
          }
        },
        "b4c8090f863e4e4996277682c3ad3f07": {
          "model_module": "@jupyter-widgets/controls",
          "model_name": "FloatProgressModel",
          "state": {
            "_view_name": "ProgressView",
            "style": "IPY_MODEL_b6e2bb6249e941e8834720cc8e0a72e2",
            "_dom_classes": [],
            "description": "Downloading: 100%",
            "_model_name": "FloatProgressModel",
            "bar_style": "success",
            "max": 1334871348,
            "_view_module": "@jupyter-widgets/controls",
            "_model_module_version": "1.5.0",
            "value": 1334871348,
            "_view_count": null,
            "_view_module_version": "1.5.0",
            "orientation": "horizontal",
            "min": 0,
            "description_tooltip": null,
            "_model_module": "@jupyter-widgets/controls",
            "layout": "IPY_MODEL_5b36ed62fc4d44b5bc10a920634e818d"
          }
        },
        "cb837c131d86488d901ad74001c6dcfb": {
          "model_module": "@jupyter-widgets/controls",
          "model_name": "HTMLModel",
          "state": {
            "_view_name": "HTMLView",
            "style": "IPY_MODEL_6191ad7085984a02b4bc8cc2dca4af86",
            "_dom_classes": [],
            "description": "",
            "_model_name": "HTMLModel",
            "placeholder": "​",
            "_view_module": "@jupyter-widgets/controls",
            "_model_module_version": "1.5.0",
            "value": " 1.33G/1.33G [00:24&lt;00:00, 54.3MB/s]",
            "_view_count": null,
            "_view_module_version": "1.5.0",
            "description_tooltip": null,
            "_model_module": "@jupyter-widgets/controls",
            "layout": "IPY_MODEL_dbaf1ec1bd824c65bfead1d6fd0d1bf3"
          }
        },
        "b6e2bb6249e941e8834720cc8e0a72e2": {
          "model_module": "@jupyter-widgets/controls",
          "model_name": "ProgressStyleModel",
          "state": {
            "_view_name": "StyleView",
            "_model_name": "ProgressStyleModel",
            "description_width": "initial",
            "_view_module": "@jupyter-widgets/base",
            "_model_module_version": "1.5.0",
            "_view_count": null,
            "_view_module_version": "1.2.0",
            "bar_color": null,
            "_model_module": "@jupyter-widgets/controls"
          }
        },
        "5b36ed62fc4d44b5bc10a920634e818d": {
          "model_module": "@jupyter-widgets/base",
          "model_name": "LayoutModel",
          "state": {
            "_view_name": "LayoutView",
            "grid_template_rows": null,
            "right": null,
            "justify_content": null,
            "_view_module": "@jupyter-widgets/base",
            "overflow": null,
            "_model_module_version": "1.2.0",
            "_view_count": null,
            "flex_flow": null,
            "width": null,
            "min_width": null,
            "border": null,
            "align_items": null,
            "bottom": null,
            "_model_module": "@jupyter-widgets/base",
            "top": null,
            "grid_column": null,
            "overflow_y": null,
            "overflow_x": null,
            "grid_auto_flow": null,
            "grid_area": null,
            "grid_template_columns": null,
            "flex": null,
            "_model_name": "LayoutModel",
            "justify_items": null,
            "grid_row": null,
            "max_height": null,
            "align_content": null,
            "visibility": null,
            "align_self": null,
            "height": null,
            "min_height": null,
            "padding": null,
            "grid_auto_rows": null,
            "grid_gap": null,
            "max_width": null,
            "order": null,
            "_view_module_version": "1.2.0",
            "grid_template_areas": null,
            "object_position": null,
            "object_fit": null,
            "grid_auto_columns": null,
            "margin": null,
            "display": null,
            "left": null
          }
        },
        "6191ad7085984a02b4bc8cc2dca4af86": {
          "model_module": "@jupyter-widgets/controls",
          "model_name": "DescriptionStyleModel",
          "state": {
            "_view_name": "StyleView",
            "_model_name": "DescriptionStyleModel",
            "description_width": "",
            "_view_module": "@jupyter-widgets/base",
            "_model_module_version": "1.5.0",
            "_view_count": null,
            "_view_module_version": "1.2.0",
            "_model_module": "@jupyter-widgets/controls"
          }
        },
        "dbaf1ec1bd824c65bfead1d6fd0d1bf3": {
          "model_module": "@jupyter-widgets/base",
          "model_name": "LayoutModel",
          "state": {
            "_view_name": "LayoutView",
            "grid_template_rows": null,
            "right": null,
            "justify_content": null,
            "_view_module": "@jupyter-widgets/base",
            "overflow": null,
            "_model_module_version": "1.2.0",
            "_view_count": null,
            "flex_flow": null,
            "width": null,
            "min_width": null,
            "border": null,
            "align_items": null,
            "bottom": null,
            "_model_module": "@jupyter-widgets/base",
            "top": null,
            "grid_column": null,
            "overflow_y": null,
            "overflow_x": null,
            "grid_auto_flow": null,
            "grid_area": null,
            "grid_template_columns": null,
            "flex": null,
            "_model_name": "LayoutModel",
            "justify_items": null,
            "grid_row": null,
            "max_height": null,
            "align_content": null,
            "visibility": null,
            "align_self": null,
            "height": null,
            "min_height": null,
            "padding": null,
            "grid_auto_rows": null,
            "grid_gap": null,
            "max_width": null,
            "order": null,
            "_view_module_version": "1.2.0",
            "grid_template_areas": null,
            "object_position": null,
            "object_fit": null,
            "grid_auto_columns": null,
            "margin": null,
            "display": null,
            "left": null
          }
        },
        "0d3da0cc796f4bf09a40523113823b4c": {
          "model_module": "@jupyter-widgets/controls",
          "model_name": "HBoxModel",
          "state": {
            "_view_name": "HBoxView",
            "_dom_classes": [],
            "_model_name": "HBoxModel",
            "_view_module": "@jupyter-widgets/controls",
            "_model_module_version": "1.5.0",
            "_view_count": null,
            "_view_module_version": "1.5.0",
            "box_style": "",
            "layout": "IPY_MODEL_1133824044bb43be97b60241f83f90b5",
            "_model_module": "@jupyter-widgets/controls",
            "children": [
              "IPY_MODEL_f24ea609eeb34f12beaf31787d42275e",
              "IPY_MODEL_048463161d3d416f8558c20bdb8ffae4"
            ]
          }
        },
        "1133824044bb43be97b60241f83f90b5": {
          "model_module": "@jupyter-widgets/base",
          "model_name": "LayoutModel",
          "state": {
            "_view_name": "LayoutView",
            "grid_template_rows": null,
            "right": null,
            "justify_content": null,
            "_view_module": "@jupyter-widgets/base",
            "overflow": null,
            "_model_module_version": "1.2.0",
            "_view_count": null,
            "flex_flow": null,
            "width": null,
            "min_width": null,
            "border": null,
            "align_items": null,
            "bottom": null,
            "_model_module": "@jupyter-widgets/base",
            "top": null,
            "grid_column": null,
            "overflow_y": null,
            "overflow_x": null,
            "grid_auto_flow": null,
            "grid_area": null,
            "grid_template_columns": null,
            "flex": null,
            "_model_name": "LayoutModel",
            "justify_items": null,
            "grid_row": null,
            "max_height": null,
            "align_content": null,
            "visibility": null,
            "align_self": null,
            "height": null,
            "min_height": null,
            "padding": null,
            "grid_auto_rows": null,
            "grid_gap": null,
            "max_width": null,
            "order": null,
            "_view_module_version": "1.2.0",
            "grid_template_areas": null,
            "object_position": null,
            "object_fit": null,
            "grid_auto_columns": null,
            "margin": null,
            "display": null,
            "left": null
          }
        },
        "f24ea609eeb34f12beaf31787d42275e": {
          "model_module": "@jupyter-widgets/controls",
          "model_name": "FloatProgressModel",
          "state": {
            "_view_name": "ProgressView",
            "style": "IPY_MODEL_984a6788a71340ff8a18f04a7c5892a5",
            "_dom_classes": [],
            "description": "Downloading: 100%",
            "_model_name": "FloatProgressModel",
            "bar_style": "success",
            "max": 433,
            "_view_module": "@jupyter-widgets/controls",
            "_model_module_version": "1.5.0",
            "value": 433,
            "_view_count": null,
            "_view_module_version": "1.5.0",
            "orientation": "horizontal",
            "min": 0,
            "description_tooltip": null,
            "_model_module": "@jupyter-widgets/controls",
            "layout": "IPY_MODEL_10869c565e464d6fb2d742466e84aabd"
          }
        },
        "048463161d3d416f8558c20bdb8ffae4": {
          "model_module": "@jupyter-widgets/controls",
          "model_name": "HTMLModel",
          "state": {
            "_view_name": "HTMLView",
            "style": "IPY_MODEL_f655ff1d8e524684afe052320c3f2bbd",
            "_dom_classes": [],
            "description": "",
            "_model_name": "HTMLModel",
            "placeholder": "​",
            "_view_module": "@jupyter-widgets/controls",
            "_model_module_version": "1.5.0",
            "value": " 433/433 [00:01&lt;00:00, 358B/s]",
            "_view_count": null,
            "_view_module_version": "1.5.0",
            "description_tooltip": null,
            "_model_module": "@jupyter-widgets/controls",
            "layout": "IPY_MODEL_2cdb38837b94447a9da57fe0a24c31fc"
          }
        },
        "984a6788a71340ff8a18f04a7c5892a5": {
          "model_module": "@jupyter-widgets/controls",
          "model_name": "ProgressStyleModel",
          "state": {
            "_view_name": "StyleView",
            "_model_name": "ProgressStyleModel",
            "description_width": "initial",
            "_view_module": "@jupyter-widgets/base",
            "_model_module_version": "1.5.0",
            "_view_count": null,
            "_view_module_version": "1.2.0",
            "bar_color": null,
            "_model_module": "@jupyter-widgets/controls"
          }
        },
        "10869c565e464d6fb2d742466e84aabd": {
          "model_module": "@jupyter-widgets/base",
          "model_name": "LayoutModel",
          "state": {
            "_view_name": "LayoutView",
            "grid_template_rows": null,
            "right": null,
            "justify_content": null,
            "_view_module": "@jupyter-widgets/base",
            "overflow": null,
            "_model_module_version": "1.2.0",
            "_view_count": null,
            "flex_flow": null,
            "width": null,
            "min_width": null,
            "border": null,
            "align_items": null,
            "bottom": null,
            "_model_module": "@jupyter-widgets/base",
            "top": null,
            "grid_column": null,
            "overflow_y": null,
            "overflow_x": null,
            "grid_auto_flow": null,
            "grid_area": null,
            "grid_template_columns": null,
            "flex": null,
            "_model_name": "LayoutModel",
            "justify_items": null,
            "grid_row": null,
            "max_height": null,
            "align_content": null,
            "visibility": null,
            "align_self": null,
            "height": null,
            "min_height": null,
            "padding": null,
            "grid_auto_rows": null,
            "grid_gap": null,
            "max_width": null,
            "order": null,
            "_view_module_version": "1.2.0",
            "grid_template_areas": null,
            "object_position": null,
            "object_fit": null,
            "grid_auto_columns": null,
            "margin": null,
            "display": null,
            "left": null
          }
        },
        "f655ff1d8e524684afe052320c3f2bbd": {
          "model_module": "@jupyter-widgets/controls",
          "model_name": "DescriptionStyleModel",
          "state": {
            "_view_name": "StyleView",
            "_model_name": "DescriptionStyleModel",
            "description_width": "",
            "_view_module": "@jupyter-widgets/base",
            "_model_module_version": "1.5.0",
            "_view_count": null,
            "_view_module_version": "1.2.0",
            "_model_module": "@jupyter-widgets/controls"
          }
        },
        "2cdb38837b94447a9da57fe0a24c31fc": {
          "model_module": "@jupyter-widgets/base",
          "model_name": "LayoutModel",
          "state": {
            "_view_name": "LayoutView",
            "grid_template_rows": null,
            "right": null,
            "justify_content": null,
            "_view_module": "@jupyter-widgets/base",
            "overflow": null,
            "_model_module_version": "1.2.0",
            "_view_count": null,
            "flex_flow": null,
            "width": null,
            "min_width": null,
            "border": null,
            "align_items": null,
            "bottom": null,
            "_model_module": "@jupyter-widgets/base",
            "top": null,
            "grid_column": null,
            "overflow_y": null,
            "overflow_x": null,
            "grid_auto_flow": null,
            "grid_area": null,
            "grid_template_columns": null,
            "flex": null,
            "_model_name": "LayoutModel",
            "justify_items": null,
            "grid_row": null,
            "max_height": null,
            "align_content": null,
            "visibility": null,
            "align_self": null,
            "height": null,
            "min_height": null,
            "padding": null,
            "grid_auto_rows": null,
            "grid_gap": null,
            "max_width": null,
            "order": null,
            "_view_module_version": "1.2.0",
            "grid_template_areas": null,
            "object_position": null,
            "object_fit": null,
            "grid_auto_columns": null,
            "margin": null,
            "display": null,
            "left": null
          }
        },
        "0ea9c9f9d1604aa793caebbe3b99a714": {
          "model_module": "@jupyter-widgets/controls",
          "model_name": "HBoxModel",
          "state": {
            "_view_name": "HBoxView",
            "_dom_classes": [],
            "_model_name": "HBoxModel",
            "_view_module": "@jupyter-widgets/controls",
            "_model_module_version": "1.5.0",
            "_view_count": null,
            "_view_module_version": "1.5.0",
            "box_style": "",
            "layout": "IPY_MODEL_369c3c88dbb84917a5d6d3f130161777",
            "_model_module": "@jupyter-widgets/controls",
            "children": [
              "IPY_MODEL_0bf6c348dff64397823db369b9fd9979",
              "IPY_MODEL_06ddb143d74c4d819c55952a2e09013b"
            ]
          }
        },
        "369c3c88dbb84917a5d6d3f130161777": {
          "model_module": "@jupyter-widgets/base",
          "model_name": "LayoutModel",
          "state": {
            "_view_name": "LayoutView",
            "grid_template_rows": null,
            "right": null,
            "justify_content": null,
            "_view_module": "@jupyter-widgets/base",
            "overflow": null,
            "_model_module_version": "1.2.0",
            "_view_count": null,
            "flex_flow": null,
            "width": null,
            "min_width": null,
            "border": null,
            "align_items": null,
            "bottom": null,
            "_model_module": "@jupyter-widgets/base",
            "top": null,
            "grid_column": null,
            "overflow_y": null,
            "overflow_x": null,
            "grid_auto_flow": null,
            "grid_area": null,
            "grid_template_columns": null,
            "flex": null,
            "_model_name": "LayoutModel",
            "justify_items": null,
            "grid_row": null,
            "max_height": null,
            "align_content": null,
            "visibility": null,
            "align_self": null,
            "height": null,
            "min_height": null,
            "padding": null,
            "grid_auto_rows": null,
            "grid_gap": null,
            "max_width": null,
            "order": null,
            "_view_module_version": "1.2.0",
            "grid_template_areas": null,
            "object_position": null,
            "object_fit": null,
            "grid_auto_columns": null,
            "margin": null,
            "display": null,
            "left": null
          }
        },
        "0bf6c348dff64397823db369b9fd9979": {
          "model_module": "@jupyter-widgets/controls",
          "model_name": "FloatProgressModel",
          "state": {
            "_view_name": "ProgressView",
            "style": "IPY_MODEL_b6358e549aee4c8ca6f3fcf44cf07547",
            "_dom_classes": [],
            "description": "Downloading: 100%",
            "_model_name": "FloatProgressModel",
            "bar_style": "success",
            "max": 213450,
            "_view_module": "@jupyter-widgets/controls",
            "_model_module_version": "1.5.0",
            "value": 213450,
            "_view_count": null,
            "_view_module_version": "1.5.0",
            "orientation": "horizontal",
            "min": 0,
            "description_tooltip": null,
            "_model_module": "@jupyter-widgets/controls",
            "layout": "IPY_MODEL_d844e2a3ddbc4e88b66da2f1302e3664"
          }
        },
        "06ddb143d74c4d819c55952a2e09013b": {
          "model_module": "@jupyter-widgets/controls",
          "model_name": "HTMLModel",
          "state": {
            "_view_name": "HTMLView",
            "style": "IPY_MODEL_129cbf3b532c4a76a9e8d8673a8f1cfb",
            "_dom_classes": [],
            "description": "",
            "_model_name": "HTMLModel",
            "placeholder": "​",
            "_view_module": "@jupyter-widgets/controls",
            "_model_module_version": "1.5.0",
            "value": " 213k/213k [00:00&lt;00:00, 536kB/s]",
            "_view_count": null,
            "_view_module_version": "1.5.0",
            "description_tooltip": null,
            "_model_module": "@jupyter-widgets/controls",
            "layout": "IPY_MODEL_9ab22a8d5127473b93c1daceafdd20c4"
          }
        },
        "b6358e549aee4c8ca6f3fcf44cf07547": {
          "model_module": "@jupyter-widgets/controls",
          "model_name": "ProgressStyleModel",
          "state": {
            "_view_name": "StyleView",
            "_model_name": "ProgressStyleModel",
            "description_width": "initial",
            "_view_module": "@jupyter-widgets/base",
            "_model_module_version": "1.5.0",
            "_view_count": null,
            "_view_module_version": "1.2.0",
            "bar_color": null,
            "_model_module": "@jupyter-widgets/controls"
          }
        },
        "d844e2a3ddbc4e88b66da2f1302e3664": {
          "model_module": "@jupyter-widgets/base",
          "model_name": "LayoutModel",
          "state": {
            "_view_name": "LayoutView",
            "grid_template_rows": null,
            "right": null,
            "justify_content": null,
            "_view_module": "@jupyter-widgets/base",
            "overflow": null,
            "_model_module_version": "1.2.0",
            "_view_count": null,
            "flex_flow": null,
            "width": null,
            "min_width": null,
            "border": null,
            "align_items": null,
            "bottom": null,
            "_model_module": "@jupyter-widgets/base",
            "top": null,
            "grid_column": null,
            "overflow_y": null,
            "overflow_x": null,
            "grid_auto_flow": null,
            "grid_area": null,
            "grid_template_columns": null,
            "flex": null,
            "_model_name": "LayoutModel",
            "justify_items": null,
            "grid_row": null,
            "max_height": null,
            "align_content": null,
            "visibility": null,
            "align_self": null,
            "height": null,
            "min_height": null,
            "padding": null,
            "grid_auto_rows": null,
            "grid_gap": null,
            "max_width": null,
            "order": null,
            "_view_module_version": "1.2.0",
            "grid_template_areas": null,
            "object_position": null,
            "object_fit": null,
            "grid_auto_columns": null,
            "margin": null,
            "display": null,
            "left": null
          }
        },
        "129cbf3b532c4a76a9e8d8673a8f1cfb": {
          "model_module": "@jupyter-widgets/controls",
          "model_name": "DescriptionStyleModel",
          "state": {
            "_view_name": "StyleView",
            "_model_name": "DescriptionStyleModel",
            "description_width": "",
            "_view_module": "@jupyter-widgets/base",
            "_model_module_version": "1.5.0",
            "_view_count": null,
            "_view_module_version": "1.2.0",
            "_model_module": "@jupyter-widgets/controls"
          }
        },
        "9ab22a8d5127473b93c1daceafdd20c4": {
          "model_module": "@jupyter-widgets/base",
          "model_name": "LayoutModel",
          "state": {
            "_view_name": "LayoutView",
            "grid_template_rows": null,
            "right": null,
            "justify_content": null,
            "_view_module": "@jupyter-widgets/base",
            "overflow": null,
            "_model_module_version": "1.2.0",
            "_view_count": null,
            "flex_flow": null,
            "width": null,
            "min_width": null,
            "border": null,
            "align_items": null,
            "bottom": null,
            "_model_module": "@jupyter-widgets/base",
            "top": null,
            "grid_column": null,
            "overflow_y": null,
            "overflow_x": null,
            "grid_auto_flow": null,
            "grid_area": null,
            "grid_template_columns": null,
            "flex": null,
            "_model_name": "LayoutModel",
            "justify_items": null,
            "grid_row": null,
            "max_height": null,
            "align_content": null,
            "visibility": null,
            "align_self": null,
            "height": null,
            "min_height": null,
            "padding": null,
            "grid_auto_rows": null,
            "grid_gap": null,
            "max_width": null,
            "order": null,
            "_view_module_version": "1.2.0",
            "grid_template_areas": null,
            "object_position": null,
            "object_fit": null,
            "grid_auto_columns": null,
            "margin": null,
            "display": null,
            "left": null
          }
        }
      }
    }
  },
  "cells": [
    {
      "cell_type": "markdown",
      "metadata": {
        "id": "view-in-github",
        "colab_type": "text"
      },
      "source": [
        "<a href=\"https://colab.research.google.com/github/subraja1810/BERT/blob/main/CS18B1059.ipynb\" target=\"_parent\"><img src=\"https://colab.research.google.com/assets/colab-badge.svg\" alt=\"Open In Colab\"/></a>"
      ]
    },
    {
      "cell_type": "code",
      "metadata": {
        "colab": {
          "base_uri": "https://localhost:8080/"
        },
        "id": "a8K7FyzzyJPJ",
        "outputId": "136227e0-428b-4d1c-b82c-efe4bf9e7e40"
      },
      "source": [
        "!pip install bert-for-tf2\n"
      ],
      "execution_count": 1,
      "outputs": [
        {
          "output_type": "stream",
          "text": [
            "Collecting bert-for-tf2\n",
            "\u001b[?25l  Downloading https://files.pythonhosted.org/packages/18/d3/820ccaf55f1e24b5dd43583ac0da6d86c2d27bbdfffadbba69bafe73ca93/bert-for-tf2-0.14.7.tar.gz (41kB)\n",
            "\r\u001b[K     |████████                        | 10kB 22.1MB/s eta 0:00:01\r\u001b[K     |████████████████                | 20kB 20.0MB/s eta 0:00:01\r\u001b[K     |███████████████████████▉        | 30kB 15.0MB/s eta 0:00:01\r\u001b[K     |███████████████████████████████▉| 40kB 14.3MB/s eta 0:00:01\r\u001b[K     |████████████████████████████████| 51kB 4.4MB/s \n",
            "\u001b[?25hCollecting py-params>=0.9.6\n",
            "  Downloading https://files.pythonhosted.org/packages/a4/bf/c1c70d5315a8677310ea10a41cfc41c5970d9b37c31f9c90d4ab98021fd1/py-params-0.9.7.tar.gz\n",
            "Collecting params-flow>=0.8.0\n",
            "  Downloading https://files.pythonhosted.org/packages/a9/95/ff49f5ebd501f142a6f0aaf42bcfd1c192dc54909d1d9eb84ab031d46056/params-flow-0.8.2.tar.gz\n",
            "Requirement already satisfied: numpy in /usr/local/lib/python3.6/dist-packages (from params-flow>=0.8.0->bert-for-tf2) (1.18.5)\n",
            "Requirement already satisfied: tqdm in /usr/local/lib/python3.6/dist-packages (from params-flow>=0.8.0->bert-for-tf2) (4.41.1)\n",
            "Building wheels for collected packages: bert-for-tf2, py-params, params-flow\n",
            "  Building wheel for bert-for-tf2 (setup.py) ... \u001b[?25l\u001b[?25hdone\n",
            "  Created wheel for bert-for-tf2: filename=bert_for_tf2-0.14.7-cp36-none-any.whl size=30539 sha256=0b426ad89bad3eacd67ef2dc6ff7c7a4aee87ac48e23f57ad332385b70747fee\n",
            "  Stored in directory: /root/.cache/pip/wheels/e1/f8/e2/b98f79a6b8cc898d8e4102b83acb8a098df7d27500a2bac912\n",
            "  Building wheel for py-params (setup.py) ... \u001b[?25l\u001b[?25hdone\n",
            "  Created wheel for py-params: filename=py_params-0.9.7-cp36-none-any.whl size=7304 sha256=ea8a189e6c4924776a3c131a0161fe8c3b60649a4867fe70fad4dc1a0bdfe2f9\n",
            "  Stored in directory: /root/.cache/pip/wheels/67/f5/19/b461849a50aefdf4bab47c4756596e82ee2118b8278e5a1980\n",
            "  Building wheel for params-flow (setup.py) ... \u001b[?25l\u001b[?25hdone\n",
            "  Created wheel for params-flow: filename=params_flow-0.8.2-cp36-none-any.whl size=19475 sha256=76b305175787178f21a9f245f3bb7b19161eeecc53e333080d32cfec7391401d\n",
            "  Stored in directory: /root/.cache/pip/wheels/08/c8/7f/81c86b9ff2b86e2c477e3914175be03e679e596067dc630c06\n",
            "Successfully built bert-for-tf2 py-params params-flow\n",
            "Installing collected packages: py-params, params-flow, bert-for-tf2\n",
            "Successfully installed bert-for-tf2-0.14.7 params-flow-0.8.2 py-params-0.9.7\n"
          ],
          "name": "stdout"
        }
      ]
    },
    {
      "cell_type": "code",
      "metadata": {
        "id": "t0lDXCuLySoB"
      },
      "source": [
        "import tensorflow as tf\n",
        "from tensorflow import keras"
      ],
      "execution_count": 2,
      "outputs": []
    },
    {
      "cell_type": "code",
      "metadata": {
        "colab": {
          "base_uri": "https://localhost:8080/"
        },
        "id": "7vhDS896ySph",
        "outputId": "f658f87d-618f-4a77-c248-2a3445247284"
      },
      "source": [
        "!pip install transformers\n",
        "!pip install praw"
      ],
      "execution_count": 3,
      "outputs": [
        {
          "output_type": "stream",
          "text": [
            "Collecting transformers\n",
            "\u001b[?25l  Downloading https://files.pythonhosted.org/packages/3a/83/e74092e7f24a08d751aa59b37a9fc572b2e4af3918cb66f7766c3affb1b4/transformers-3.5.1-py3-none-any.whl (1.3MB)\n",
            "\u001b[K     |████████████████████████████████| 1.3MB 11.9MB/s \n",
            "\u001b[?25hCollecting tokenizers==0.9.3\n",
            "\u001b[?25l  Downloading https://files.pythonhosted.org/packages/4c/34/b39eb9994bc3c999270b69c9eea40ecc6f0e97991dba28282b9fd32d44ee/tokenizers-0.9.3-cp36-cp36m-manylinux1_x86_64.whl (2.9MB)\n",
            "\u001b[K     |████████████████████████████████| 2.9MB 39.5MB/s \n",
            "\u001b[?25hRequirement already satisfied: packaging in /usr/local/lib/python3.6/dist-packages (from transformers) (20.4)\n",
            "Requirement already satisfied: tqdm>=4.27 in /usr/local/lib/python3.6/dist-packages (from transformers) (4.41.1)\n",
            "Requirement already satisfied: regex!=2019.12.17 in /usr/local/lib/python3.6/dist-packages (from transformers) (2019.12.20)\n",
            "Requirement already satisfied: numpy in /usr/local/lib/python3.6/dist-packages (from transformers) (1.18.5)\n",
            "Requirement already satisfied: dataclasses; python_version < \"3.7\" in /usr/local/lib/python3.6/dist-packages (from transformers) (0.7)\n",
            "Requirement already satisfied: requests in /usr/local/lib/python3.6/dist-packages (from transformers) (2.23.0)\n",
            "Collecting sacremoses\n",
            "\u001b[?25l  Downloading https://files.pythonhosted.org/packages/7d/34/09d19aff26edcc8eb2a01bed8e98f13a1537005d31e95233fd48216eed10/sacremoses-0.0.43.tar.gz (883kB)\n",
            "\u001b[K     |████████████████████████████████| 890kB 48.2MB/s \n",
            "\u001b[?25hRequirement already satisfied: protobuf in /usr/local/lib/python3.6/dist-packages (from transformers) (3.12.4)\n",
            "Collecting sentencepiece==0.1.91\n",
            "\u001b[?25l  Downloading https://files.pythonhosted.org/packages/d4/a4/d0a884c4300004a78cca907a6ff9a5e9fe4f090f5d95ab341c53d28cbc58/sentencepiece-0.1.91-cp36-cp36m-manylinux1_x86_64.whl (1.1MB)\n",
            "\u001b[K     |████████████████████████████████| 1.1MB 34.9MB/s \n",
            "\u001b[?25hRequirement already satisfied: filelock in /usr/local/lib/python3.6/dist-packages (from transformers) (3.0.12)\n",
            "Requirement already satisfied: six in /usr/local/lib/python3.6/dist-packages (from packaging->transformers) (1.15.0)\n",
            "Requirement already satisfied: pyparsing>=2.0.2 in /usr/local/lib/python3.6/dist-packages (from packaging->transformers) (2.4.7)\n",
            "Requirement already satisfied: urllib3!=1.25.0,!=1.25.1,<1.26,>=1.21.1 in /usr/local/lib/python3.6/dist-packages (from requests->transformers) (1.24.3)\n",
            "Requirement already satisfied: certifi>=2017.4.17 in /usr/local/lib/python3.6/dist-packages (from requests->transformers) (2020.6.20)\n",
            "Requirement already satisfied: idna<3,>=2.5 in /usr/local/lib/python3.6/dist-packages (from requests->transformers) (2.10)\n",
            "Requirement already satisfied: chardet<4,>=3.0.2 in /usr/local/lib/python3.6/dist-packages (from requests->transformers) (3.0.4)\n",
            "Requirement already satisfied: click in /usr/local/lib/python3.6/dist-packages (from sacremoses->transformers) (7.1.2)\n",
            "Requirement already satisfied: joblib in /usr/local/lib/python3.6/dist-packages (from sacremoses->transformers) (0.17.0)\n",
            "Requirement already satisfied: setuptools in /usr/local/lib/python3.6/dist-packages (from protobuf->transformers) (50.3.2)\n",
            "Building wheels for collected packages: sacremoses\n",
            "  Building wheel for sacremoses (setup.py) ... \u001b[?25l\u001b[?25hdone\n",
            "  Created wheel for sacremoses: filename=sacremoses-0.0.43-cp36-none-any.whl size=893257 sha256=1da94c6b1c5a1699b335550ee1ea147a370fbc49456ad2f32d752b9c1a9d239a\n",
            "  Stored in directory: /root/.cache/pip/wheels/29/3c/fd/7ce5c3f0666dab31a50123635e6fb5e19ceb42ce38d4e58f45\n",
            "Successfully built sacremoses\n",
            "Installing collected packages: tokenizers, sacremoses, sentencepiece, transformers\n",
            "Successfully installed sacremoses-0.0.43 sentencepiece-0.1.91 tokenizers-0.9.3 transformers-3.5.1\n",
            "Collecting praw\n",
            "\u001b[?25l  Downloading https://files.pythonhosted.org/packages/2c/15/4bcc44271afce0316c73cd2ed35f951f1363a07d4d5d5440ae5eb2baad78/praw-7.1.0-py3-none-any.whl (152kB)\n",
            "\u001b[K     |████████████████████████████████| 153kB 12.1MB/s \n",
            "\u001b[?25hCollecting websocket-client>=0.54.0\n",
            "\u001b[?25l  Downloading https://files.pythonhosted.org/packages/4c/5f/f61b420143ed1c8dc69f9eaec5ff1ac36109d52c80de49d66e0c36c3dfdf/websocket_client-0.57.0-py2.py3-none-any.whl (200kB)\n",
            "\u001b[K     |████████████████████████████████| 204kB 19.5MB/s \n",
            "\u001b[?25hCollecting update-checker>=0.17\n",
            "  Downloading https://files.pythonhosted.org/packages/0c/ba/8dd7fa5f0b1c6a8ac62f8f57f7e794160c1f86f31c6d0fb00f582372a3e4/update_checker-0.18.0-py3-none-any.whl\n",
            "Collecting prawcore<2.0,>=1.3.0\n",
            "  Downloading https://files.pythonhosted.org/packages/1d/40/b741437ce4c7b64f928513817b29c0a615efb66ab5e5e01f66fe92d2d95b/prawcore-1.5.0-py3-none-any.whl\n",
            "Requirement already satisfied: six in /usr/local/lib/python3.6/dist-packages (from websocket-client>=0.54.0->praw) (1.15.0)\n",
            "Requirement already satisfied: requests>=2.3.0 in /usr/local/lib/python3.6/dist-packages (from update-checker>=0.17->praw) (2.23.0)\n",
            "Requirement already satisfied: chardet<4,>=3.0.2 in /usr/local/lib/python3.6/dist-packages (from requests>=2.3.0->update-checker>=0.17->praw) (3.0.4)\n",
            "Requirement already satisfied: idna<3,>=2.5 in /usr/local/lib/python3.6/dist-packages (from requests>=2.3.0->update-checker>=0.17->praw) (2.10)\n",
            "Requirement already satisfied: certifi>=2017.4.17 in /usr/local/lib/python3.6/dist-packages (from requests>=2.3.0->update-checker>=0.17->praw) (2020.6.20)\n",
            "Requirement already satisfied: urllib3!=1.25.0,!=1.25.1,<1.26,>=1.21.1 in /usr/local/lib/python3.6/dist-packages (from requests>=2.3.0->update-checker>=0.17->praw) (1.24.3)\n",
            "Installing collected packages: websocket-client, update-checker, prawcore, praw\n",
            "Successfully installed praw-7.1.0 prawcore-1.5.0 update-checker-0.18.0 websocket-client-0.57.0\n"
          ],
          "name": "stdout"
        }
      ]
    },
    {
      "cell_type": "code",
      "metadata": {
        "id": "d3U8jAqhyStT"
      },
      "source": [
        "from transformers import TFAutoModelForTokenClassification, AutoTokenizer \n",
        "from matplotlib import pyplot as plt \n",
        "import praw \n",
        "import pandas as pd "
      ],
      "execution_count": 4,
      "outputs": []
    },
    {
      "cell_type": "code",
      "metadata": {
        "colab": {
          "base_uri": "https://localhost:8080/",
          "height": 316,
          "referenced_widgets": [
            "d7994ae217084b5786981c98df6a851f",
            "8ba45bf672c7400bb9bf1c3c6e700e0c",
            "06f40899a1f64da3ad23e3924beb83e4",
            "5e860c39d2e2427a85c0fcd6b3feaf5b",
            "8f5867b56e7149d6a515627fd3e98d0f",
            "cf7032e6ba0544678ccc2979782caab8",
            "27b13b976a744f2382380cda023070df",
            "7232dde721954dfbb2dc40b9d2cd31e6",
            "cf856a6f00604232accb4df868eb7ab3",
            "b69656e539f34dfca7458731c0b2337f",
            "b4c8090f863e4e4996277682c3ad3f07",
            "cb837c131d86488d901ad74001c6dcfb",
            "b6e2bb6249e941e8834720cc8e0a72e2",
            "5b36ed62fc4d44b5bc10a920634e818d",
            "6191ad7085984a02b4bc8cc2dca4af86",
            "dbaf1ec1bd824c65bfead1d6fd0d1bf3",
            "0d3da0cc796f4bf09a40523113823b4c",
            "1133824044bb43be97b60241f83f90b5",
            "f24ea609eeb34f12beaf31787d42275e",
            "048463161d3d416f8558c20bdb8ffae4",
            "984a6788a71340ff8a18f04a7c5892a5",
            "10869c565e464d6fb2d742466e84aabd",
            "f655ff1d8e524684afe052320c3f2bbd",
            "2cdb38837b94447a9da57fe0a24c31fc",
            "0ea9c9f9d1604aa793caebbe3b99a714",
            "369c3c88dbb84917a5d6d3f130161777",
            "0bf6c348dff64397823db369b9fd9979",
            "06ddb143d74c4d819c55952a2e09013b",
            "b6358e549aee4c8ca6f3fcf44cf07547",
            "d844e2a3ddbc4e88b66da2f1302e3664",
            "129cbf3b532c4a76a9e8d8673a8f1cfb",
            "9ab22a8d5127473b93c1daceafdd20c4"
          ]
        },
        "id": "tJNmXP8kySu4",
        "outputId": "a08296b8-2b6e-4e71-a2d2-81b676d10574"
      },
      "source": [
        "model = TFAutoModelForTokenClassification.from_pretrained(\"dbmdz/bert-large-cased-finetuned-conll03-english\") \n",
        "tokenizer = AutoTokenizer.from_pretrained(\"bert-base-cased\")"
      ],
      "execution_count": 5,
      "outputs": [
        {
          "output_type": "display_data",
          "data": {
            "application/vnd.jupyter.widget-view+json": {
              "model_id": "d7994ae217084b5786981c98df6a851f",
              "version_minor": 0,
              "version_major": 2
            },
            "text/plain": [
              "HBox(children=(FloatProgress(value=0.0, description='Downloading', max=998.0, style=ProgressStyle(description_…"
            ]
          },
          "metadata": {
            "tags": []
          }
        },
        {
          "output_type": "stream",
          "text": [
            "\n"
          ],
          "name": "stdout"
        },
        {
          "output_type": "display_data",
          "data": {
            "application/vnd.jupyter.widget-view+json": {
              "model_id": "cf856a6f00604232accb4df868eb7ab3",
              "version_minor": 0,
              "version_major": 2
            },
            "text/plain": [
              "HBox(children=(FloatProgress(value=0.0, description='Downloading', max=1334871348.0, style=ProgressStyle(descr…"
            ]
          },
          "metadata": {
            "tags": []
          }
        },
        {
          "output_type": "stream",
          "text": [
            "\n"
          ],
          "name": "stdout"
        },
        {
          "output_type": "stream",
          "text": [
            "Some layers from the model checkpoint at dbmdz/bert-large-cased-finetuned-conll03-english were not used when initializing TFBertForTokenClassification: ['dropout_147']\n",
            "- This IS expected if you are initializing TFBertForTokenClassification from the checkpoint of a model trained on another task or with another architecture (e.g. initializing a BertForSequenceClassification model from a BertForPreTraining model).\n",
            "- This IS NOT expected if you are initializing TFBertForTokenClassification from the checkpoint of a model that you expect to be exactly identical (initializing a BertForSequenceClassification model from a BertForSequenceClassification model).\n",
            "Some layers of TFBertForTokenClassification were not initialized from the model checkpoint at dbmdz/bert-large-cased-finetuned-conll03-english and are newly initialized: ['dropout_73']\n",
            "You should probably TRAIN this model on a down-stream task to be able to use it for predictions and inference.\n"
          ],
          "name": "stderr"
        },
        {
          "output_type": "display_data",
          "data": {
            "application/vnd.jupyter.widget-view+json": {
              "model_id": "0d3da0cc796f4bf09a40523113823b4c",
              "version_minor": 0,
              "version_major": 2
            },
            "text/plain": [
              "HBox(children=(FloatProgress(value=0.0, description='Downloading', max=433.0, style=ProgressStyle(description_…"
            ]
          },
          "metadata": {
            "tags": []
          }
        },
        {
          "output_type": "stream",
          "text": [
            "\n"
          ],
          "name": "stdout"
        },
        {
          "output_type": "display_data",
          "data": {
            "application/vnd.jupyter.widget-view+json": {
              "model_id": "0ea9c9f9d1604aa793caebbe3b99a714",
              "version_minor": 0,
              "version_major": 2
            },
            "text/plain": [
              "HBox(children=(FloatProgress(value=0.0, description='Downloading', max=213450.0, style=ProgressStyle(descripti…"
            ]
          },
          "metadata": {
            "tags": []
          }
        },
        {
          "output_type": "stream",
          "text": [
            "\n"
          ],
          "name": "stdout"
        }
      ]
    },
    {
      "cell_type": "code",
      "metadata": {
        "id": "OwIZTPxlySyn"
      },
      "source": [
        "label_list = [\n",
        "    \"O\",       # Outside of a named entity\n",
        "    \"B-MISC\",  # Beginning of a miscellaneous entity immediately after another miscellaneous entity\n",
        "    \"I-MISC\",  # Miscellaneous entity\n",
        "    \"B-PER\",   # Beginning of a person's name immediately after another person's name\n",
        "    \"I-PER\",   # Person's name\n",
        "    \"B-ORG\",   # Beginning of an organisation immediately after another organisation\n",
        "    \"I-ORG\",   # Organisation\n",
        "    \"B-LOC\",   # Beginning of a location immediately after another location\n",
        "    \"I-LOC\"    # Location\n",
        "]"
      ],
      "execution_count": 53,
      "outputs": []
    },
    {
      "cell_type": "code",
      "metadata": {
        "id": "NE-XEwRcyS52"
      },
      "source": [
        "reddit = praw.Reddit(client_id='3PQwAJT-jv_t2g', \n",
        "                     client_secret='Lj2yqyiO-r5RO-K-7NAM7ABx9mL4qg',\n",
        "                     user_agent='RedditBoo')"
      ],
      "execution_count": 54,
      "outputs": []
    },
    {
      "cell_type": "code",
      "metadata": {
        "id": "vKOVXFAAyS7q"
      },
      "source": [
        "def replies_of(top_comments, comment_list):\n",
        "    if len(top_comments.replies) == 0:\n",
        "        return\n",
        "    else:\n",
        "        for num, comment in enumerate(top_comments.replies):\n",
        "            try:\n",
        "                comments_list.append(str(comment.body))\n",
        "            except:\n",
        "                continue\n",
        "            replies_of(comment, comments_list)"
      ],
      "execution_count": 55,
      "outputs": []
    },
    {
      "cell_type": "code",
      "metadata": {
        "id": "a7A05vhiEXBU"
      },
      "source": [
        "count = 0\n",
        "final_dict = {'I-LOC': [], 'I-ORG': [], 'I-PER': [], 'B-LOC': [], 'B-ORG': [], 'B-PER': [], 'B-MISC': [], 'I-MISC': []} \n",
        "word_temp = ''\n",
        "current_tag = ''\n",
        "old_tag = ''\n",
        "print_dict = {}\n",
        "print(final_dict)"
      ],
      "execution_count": null,
      "outputs": []
    },
    {
      "cell_type": "code",
      "metadata": {
        "id": "bpWi4QYSEXVJ"
      },
      "source": [
        "list_of_subreddit = ['marvelstudios']"
      ],
      "execution_count": 57,
      "outputs": []
    },
    {
      "cell_type": "code",
      "metadata": {
        "id": "FJdAdfoNEXW1"
      },
      "source": [
        "for j in list_of_subreddit:\n",
        "    top_posts = reddit.subreddit(j).top('month', limit=1)\n",
        "    comments_list = [] #Data fetched.\n",
        "    # save subreddit comments in dataframe\n",
        "    for submission in top_posts:\n",
        "        submission_comm = reddit.submission(id=submission.id)\n",
        "        comments_list.append(str(submission.title))\n",
        "\n",
        "        for count, top_comments in enumerate(submission_comm.comments):\n",
        "            try:\n",
        "                replies_of(top_comments, comments_list)\n",
        "            except:\n",
        "                continue\n",
        "\n",
        "print(comments_list)                "
      ],
      "execution_count": null,
      "outputs": []
    },
    {
      "cell_type": "code",
      "metadata": {
        "id": "5Ie968P3EXaQ"
      },
      "source": [
        "for sequence in comments_list:\n",
        "    if len(sequence) > 512: #BERT token limitaton.\n",
        "        continue\n",
        "    # Standard Tokenization\n",
        "    tokens = tokenizer.tokenize(tokenizer.decode(tokenizer.encode(sequence)))\n",
        "    inputs = tokenizer.encode(sequence, return_tensors=\"tf\")\n",
        "    outputs = model(inputs)[0]\n",
        "    predictions = tf.argmax(outputs, axis=2)\n",
        "   # print(predictions.shape)\n",
        "    # Tokenized input\n",
        "    list_bert = [(token, label_list[prediction]) for token, prediction in zip(tokens, predictions[0].numpy())]\n",
        "    for i in list_bert:\n",
        "        if i[1] in ['O']:\n",
        "            if len(current_tag) > 0:\n",
        "                without_space_word = word_temp.strip()\n",
        "                if len(without_space_word) > 1:\n",
        "                    final_dict[current_tag].append(without_space_word)\n",
        "            count = 0\n",
        "            word_temp = ''\n",
        "            current_tag = ''\n",
        "            continue\n",
        "        else:\n",
        "            current_tag = i[1]\n",
        "\n",
        "            if old_tag != current_tag and len(old_tag) > 0:\n",
        "                without_space_word = word_temp.strip()\n",
        "                if len(without_space_word) > 1:\n",
        "                    final_dict[old_tag].append(without_space_word)\n",
        "                count = 0\n",
        "                word_temp = ''\n",
        "                current_tag = ''\n",
        "\n",
        "            if i[0].startswith('##'): \n",
        "                word_temp += i[0][2:].upper()\n",
        "            elif i[1] in ['I-PER', 'I-ORG', 'I-LOC', 'B-LOC', 'B-ORG', 'B-PER', 'B-MISC', 'I-MISC']:\n",
        "                word_temp += \" \" + i[0].upper()\n",
        "                current_tag = i[1]\n",
        "                count += 1\n",
        "            old_tag = current_tag"
      ],
      "execution_count": 65,
      "outputs": []
    },
    {
      "cell_type": "code",
      "metadata": {
        "colab": {
          "base_uri": "https://localhost:8080/"
        },
        "id": "VOiK94iNeCWb",
        "outputId": "33be7324-3520-4dda-bc9b-97865215acc1"
      },
      "source": [
        "print(final_dict)\n",
        "print_dict['Location']=list(set(final_dict['I-LOC']+final_dict['B-LOC']))\n",
        "print_dict['Organisation']=list(set(final_dict['I-ORG']+final_dict['B-ORG']))\n",
        "print_dict['Person Name']=list(set(final_dict['I-PER']+final_dict['B-PER']))\n",
        "print_dict['Miscellaneous']=list(set(final_dict['I-MISC']+final_dict['B-MISC']))\n",
        "print('')\n",
        "print(print_dict)"
      ],
      "execution_count": 86,
      "outputs": [
        {
          "output_type": "stream",
          "text": [
            "{'I-LOC': ['WAKANDA', 'WAKANDA', 'WAKANDA', 'NYC', 'WAKANDA', 'EUROPE', 'US', 'HOLLYWOOD', 'NEUSCHWANSTEIN', 'CHINA', 'TIBET', 'CHINA', 'TIBET', 'CHINA', 'CHINA', 'CHINA', 'CHINA', 'CHINA', 'HOLLYWOOD', 'CHINA', 'CHINA', 'CHINA', 'CHINA', 'CHINA', 'NEW YORK', 'CHINA', 'CHINA', 'CHINA', 'WAKANDA', 'HOLLYWOOD', 'THANOS'], 'I-ORG': ['WANDAVISION', 'BOSEMAN MCU', 'MARVEL', 'MCU', 'MARVEL', 'WANDAVISION', 'PANTHER', 'WIDOW', 'WANDAVISION', 'WAKANDA FOREVER', 'WAKANDA FOREVER', 'WAKANDA FOREVER', 'WAKANDA FOREVER', 'WAKANDA FOREVER', 'WAKANDA FOREVER', 'WAKANDA FOREVER', 'WAKANDA FOREVER', 'WAKANDA FOREVER', 'WAKANDA FOREVER', 'WAKANDA FOREVER', 'WAKANDA FOREVER', 'WAKANDAFOREVER', 'WAKANDA FOREVER', 'WAKANDA FOREVER', 'WAKANDA FOREVER', 'WAKANDA FOREVER', 'YI', 'YI', 'YI', 'YI', 'YI', 'YI', 'YI', 'YI', 'GUILLA', 'MARVEL', 'MCU', 'MCU', 'MARVEL', 'MCU', 'MCU', 'BLACK PANTHER', 'AVENGERS', 'MCU', 'MARVEL', 'DISNEY', 'MARVEL', 'WB', 'DC', 'DC', 'MCU', 'MCU', 'DC', 'MARVEL', 'MARVEL', 'DC', 'FLASH', 'JUSTICE LEAGUE', 'DCEU', 'MARVEL', 'MARVEL', 'AVENGERS', 'AVENGERS', 'JUSTICE LEAGUE', 'MARVEL', 'DC', 'MARVEL', 'BATMAN BEG', 'ISON IVY', 'DC', 'MARVEL', 'DC', 'SOKOVIA', 'THAN', 'GUARDIANS', 'JUSTICE LEAGUE', 'JGL', 'MARVEL', 'DC', 'JUSTICE LEAGUE', 'DC', 'MCU', 'MARVEL', 'SUPERMAN', 'DC FILMS', 'IIRC', 'THE AUTHORITY', 'DC', 'DC', 'MCU', 'DC', 'WB', 'WB', 'MCU', 'MARVEL', 'DC', 'JUSTICE LEAGUE', 'JUSTICE LEAGUE', 'MARVEL', 'BLACK PANTHER', 'BLACK PANTHER', 'BLACK PANTHER PARTY', 'PANTHER', 'II', 'BP', 'MARVEL', 'BLACK BOLT', 'STORMFRONT', 'THE BOYS', 'SA / BROWNSHIRTS', 'SS', 'MARVEL', 'GL', 'MCU', 'MEN', 'MCU', 'X - MEN', 'AVENGERS', 'MARVEL COMICS', 'MARVEL', 'MARVEL', 'PIXAR', 'MARVEL STUDIOS', 'MARVEL STUDIOS', 'MCU', 'WB', 'DC', 'DISNEY', 'MARVEL', 'DISNEY / PIXAR', 'PIXAR', 'DISNEY', 'IIRC', 'MARVEL ENTERTAINMENT', 'DISNEY', 'MARVEL', 'FOX', 'DISNEY', 'MCU', 'BP', 'CM', 'DEADLINE', 'SOLO', 'MCU', 'BLACK PANTHER', 'AVENGERS', 'POS', '- MEN', 'MCU', 'MCU', 'NBA', \"CHARLIE ' S ANGELS\", 'AAA', 'MARVEL', 'AOS', 'ELEKTRA', 'IMO', 'DISNEY', 'MARVEL', 'FEIGE', 'ETERNALS', 'MCU', 'PAL', 'TINE / SIDIOUS', 'MINERVA', 'MCU', 'DISNEY', 'DISNEY', 'MCU', 'MCU', 'MARVEL TELEVISION', 'MCU', 'MCU', 'HULU', 'MCU', 'RUN', 'THOR L & T', 'KYRIE', 'ETERNALS', 'OP', '+ TV', 'MCU TV', 'DISNEY', 'MCU', 'MARVEL', 'DC', 'YOUNG AVENGERS', 'DISNEY', 'DISNEY', 'POE', 'WRITE', 'POE', 'DISNEY', 'CCP', 'DISNEY', 'DISNEY', 'DISNEY', 'MCU', 'MCU', 'MCU', 'X - MEN', 'DP', 'NTW', 'MULITVERSE OF MADNESS', 'X - MEN', 'FF', 'DISNEY', 'DISNEY', 'DISNEY', 'DISNEY', 'VISION', 'ICCAN', 'AVENGERS', 'THUNDERBOLTS', 'MARVEL', 'FEIGE / MARVEL STUDIOS', 'MARVEL TV', 'AOS', 'MCU', 'MARVEL TELEVISION', 'AOS', 'RUNAWAYS', 'MARVEL TELEVISION', 'AOS', 'RUNAWAYS', 'RUNAWAYS', 'DC', 'NETFLIX MARVEL', 'MARVEL', 'MARVEL', 'NETFLIX', 'MCU', 'BP', 'DISNEY', 'MCU', 'JACK KIRBY', 'MCU', 'MCU', 'SUE'], 'I-PER': ['CHADWICK BOSEMAN', 'MILES', 'BLACK WIDOW', 'STAN LEE', 'STAN LEE', 'STAN', 'GENE COLAN', 'MAR - VELL', 'CAPTAIN MARVEL', 'CAROL', 'ROY THOMAS', 'GENE COLAN', 'LEE', 'STAN LEE', 'ROBERT DOWNEY JR', 'CHADWICK', 'SCARLETT', 'CHADWICK', 'YI', 'RYAN GEORGE', 'RYAN GEORGE', 'STAN LEE', 'STAN LEE', 'STAN', 'CHALL', 'BOSEMAN', 'BOSEMAN', 'JOI HARRIS', 'JOI', 'HARRIS', 'DOCTOR STRANGE', 'CHADWICK', 'CHADWICK', 'PETER', 'MARK RUFFALO', 'KEVIN FEIGE', 'KEVIN', 'RUFFALO', 'FEIGE', 'NOLAN', 'NOLAN', 'BATMAN', 'NOLAN', 'BATMAN', 'SUPERMAN', 'DR', 'STRANGE', 'CLAYFACE', 'FREEZE', 'SUPERMAN', 'WONDER WOMAN', 'THE', 'BATMAN', 'IRON', 'THOR', 'BATMAN', 'BATMAN', 'CLAYFACE', 'BATMAN', 'TONY', 'BRUCE', 'HAWKEYE', 'BLACK WIDOW', 'BEN AFFLECK', 'BATMAN', 'NOLAN', 'MR FREEZE', 'BATMAN', 'NOLAN', 'HEATH LEDGER', 'JOKER', 'NOLAN', '. NOLAN', 'BALE', 'BATMAN', 'SUPERMAN', 'BALE', 'BATMAN', 'NOEL', 'JOKER', 'BATMAN', 'NOEL', 'SUPERMAN', 'GOD', 'BERMEJO', 'BALES', 'MAMOA', 'FLASH', 'BATMAN', 'GOD', 'FEIGE', 'THANOS', 'IRON', 'BATMAN', 'BATMAN', 'ZOD', 'CLARK', 'BATMAN', 'SUPERMAN', 'CAP', 'HULK', 'THANOS', 'THANOS', 'CAP', 'THANOS', 'THANOS', 'FLASH', 'GREEN LANTERN', 'SUPERMAN', 'WONDER WOMAN', 'BATMAN', 'BATMAN', 'ARROW', 'HINES', 'BRUCE', 'NOLAN', 'BATMAN', 'BATMAN', 'CHRISTIAN BALE', 'BATMAN', 'NOLAN', 'BATMAN', 'BATMAN', 'IRON MAN', 'REED RICHARDS', 'NOLAN', 'BATMAN', 'BANE', 'CATWOMAN', 'NOLAN', 'NOLAN', 'FREEZE', 'CLAYFACE', 'IVY', 'BATFLECK', 'NOLAN', 'BATMAN', 'FEIGE', 'CONSTANTINE', 'CHEETAH', 'GORILLA GRODD', 'SHINING KNIGHT', 'STEEL', 'GREEN ARROW', 'ROBIN HOOD', 'CAPTAIN AMERICA', 'FEIGE', 'GEOFF JOHNS', 'FEIGE', 'LAUREN DONNER', 'JOHNS', 'RICHARD DONNER', 'JOHNS', 'SUPERMAN', 'FEIGE', 'PERLMUTTER', 'ZACK SNYDER', 'FEIGE', 'HELENA BERTINELLI', 'BATMAN', 'MILLER', 'FEIGE', 'STAN LEE', 'STAN LEE', 'BLACK LEOPARD', 'STORM', 'THOR', 'GOD', 'JACK KIRBY', 'STAN', 'STAN', 'STAN', 'STAN', 'CAP', 'NICK FURY', 'STAN', 'BRUCE LEE', 'BLADE', 'BRUCE LEE', 'BRUCE LEE', 'KAL ’ EL', 'SUPERMAN', 'FEIGE', 'ROGUE', 'JIM SHOOTER', 'CHRIS CLAREMONT', 'SHOOTER', 'IGER', 'STEVE JOBS', 'BOB CHAPEK', 'CHAPEK', 'CHAPEK', 'IGER', 'FEIGE', 'CHAPEK', 'FEIGE', 'WALTER ISAACSON', 'JOBS', 'IGER', 'JOBS', 'LASSETER', 'KEVIN FEIGE', 'PERLMUTTER', 'IKE', 'PERLMUTTER', 'PERLMUTTER', 'GEORGE LUCAS', 'GEORGE', 'LUCAS', 'PER', 'FAVREAU', 'BABY YO', 'SHANG CHI', 'CAP', 'NATASHA', 'BUCKY', 'CHADWICK', 'SPIDERMAN', 'WESLEY SNIPES', 'BLADE', 'WESLEY SNIPES', 'BLADE', 'TRUMP', 'FEIGE', 'PERLMUTTER', 'TRUMP', 'IKE', 'IKE', 'JAI CUNNINGHAM', 'SAM WORTHINGTON', 'STEEL', 'SUPERMAN', 'SUPERMAN', 'STEEL', 'STEEL', 'JAI COURTNEY', 'SAM', 'JAI COURTNEY', 'SAM', 'BLADE', 'QUAKE', 'IKE', 'BLADE', 'IKE', 'TONY STARK', 'DI', 'KENNEDY', 'GEMMA CHAN', 'ASTRID', 'MINERVA', 'SERSI', 'SER', 'THE', 'ONE', 'TILDA SWINTON', 'EJIOFOR', 'MORDO', 'TILDA SWINTON', 'MANDARIN', 'TILDA', 'DR', 'STRANGE', 'ONE', 'TILDA SWINTON', 'BENEDICT CUMBERBATCH', 'SCOTT DERRICKSON', 'BEN KINGSLEY', 'KING', 'TREVOR', 'TILDA SWINTON', 'TILDA SWINTON', 'ONE', 'ANCIENT ONE', 'APOLLO', 'APOLLO', 'HARLEY', 'IVY', 'TESSA', 'LE', 'FEIGE', 'MOLLY', 'FEIGE', 'VAL', 'LOKI', 'LOKI', 'LOKI', 'ODIN', 'VAL', 'HELA', 'BRIAN TYREE HENRY', 'JESSICA JONES', 'CARRIE - ANNE MOSS', 'VALKYRIE', 'SNOWFLAME', 'JUST', 'FINNP', 'STEVE ROGERS', 'STEVE', 'BUCKY', 'POE', 'POE', 'FINN', 'YUKIO', 'WADE', 'YUKIO', 'DEADPOOL', 'DEADPOOL', 'CABLE', 'SPIDER', 'MAN', 'DEADPOOL', 'DEADPOOL', 'SPIDEY', 'SPIDEY', 'HI WADE', 'KEVIN FEIGE', 'PHASTOS', 'CAROL', 'MARIA', 'WANDA', 'MISS', 'RVEL', 'DIANA JONES', 'JAMES BOND', 'VALKYRIE', 'CAPTAIN MARVEL', 'PERLMUTTER', 'LUKE CAGE', 'DAISY', 'COULSON', 'LOAK', 'DAGGER', 'COULSON', 'KAROLINA DEAN', 'JERI HOGARTH', 'ANA HELSTROM', 'QUAKE', 'COULSON', 'COULSON', 'NICO MINORU', 'LUKE CAGE', 'TYRONE JOHNSON', 'QUAKE', 'COULSON', 'COULSON', 'NICO MINORU', 'LUKE CAGE', 'TYRONE JOHNSON', 'NICO', 'BUCKY', 'VALKYRIE', 'PERLMUTTER', 'IKE', 'GHOST RIDER', 'YO - YO', 'SALMA HAYEK', 'TESSA THOMPSON', 'ZOE SALDANA', 'SALDANA', 'THOMPSON', 'AMERICA CHAVEZ', 'CHAVEZ', 'MARK', 'FALCON', 'WAR MACHINE', 'WONG', 'SHANG - CHI', 'LUIS', 'LOL', 'MILES GONZALO MORALES', 'CAPTAIN MARVEL', 'MANTIS', 'BLACK WIDOW', 'SCARLET WITCH', 'THANOS', 'MANTIS', 'SHURI', 'LOKI'], 'B-LOC': [], 'B-ORG': [], 'B-PER': [], 'B-MISC': [], 'I-MISC': ['SPIDER - MAN', 'MORALES', 'PANTHER', 'BLACK PANTHER', 'CAPTAIN MARVEL', 'ENDGAME', 'CAPTAIN MARVEL', 'ENDGAME', 'KREE', 'ENDGAME', 'FAR FROM HOME', 'CAPTAIN MARVEL', 'SPIDER - MAN', 'BLACK PANTHER', 'BLACK WIDOW', 'BLACK', 'DISNEY +', 'BLACK WIDOW', 'BLACK PANTHER', 'BLACK', 'WAKANDA FOREVER', 'WAKANDA FOREVER', 'WAKANDA FOREVER', 'SPIDERMAN', 'MILES MORALES', 'BELIEVE', 'EMMY', 'WAKANDA FOREVER', 'BOSEMAN FOREVER', 'MILES', 'MC', 'MC', 'FOX - MEN', 'SPIDER - MAN', 'DEADPOOL 2', 'DP 2', 'BRITS', 'WAKANDAN', 'BLACK', 'MCU DIVERSITY', 'LGBT', 'BATMAN', 'BATMAN', 'BATMAN', 'SUPER HERO', 'SUPERMAN', 'BLACK PANTHER', 'BATMAN', 'BATMAN', 'BATMAN', 'MAN', 'CAPTAIN AMERICA', 'AVENGERS', 'CLAYFACE', 'IRON MAN', 'THOR', 'SHAZAM', 'BATMAN', 'ROBIN', 'SHAZAM', 'THE DARK KNIGHT RETURNS', 'THE DARK KNIGHT RISES', 'BATMAN', 'DC UNIVERSE', 'BATMAN', 'BATMAN', 'SPIDER - MAN', 'MARVEL FORMULA', 'ANT - MAN 1', 'ALIEN', 'MAN', 'INFINITY WAR', 'IRON MAN', 'PTONITE', 'BATMOBILE', 'PTON', 'PTONITE', 'PTON', 'HUSH', 'IRONMAN', 'NOLANBAT', 'DC CINEMATIC UNIVERSE', 'CAPTAIN AMERICA', 'SEMI', 'GREEN', 'TO', 'W PLANET', 'ACROSS GALAXY WITH', 'CINEMATIC UNIVERSE', 'NOT RISES', '11', 'AVENGERS', 'TDK', 'RISES', 'DARKSEID', 'RISE', 'TDK', 'RISES', 'THE DARK KNIGHT', 'BATMAN', 'ROCKSTAR', 'Z AL', 'BAT', 'BATS', 'BATMAN', 'BATMAN', 'BATMAN', 'SPIDERMAN', 'DC', 'CORONA', 'MEN', 'FEIGE', 'SUPERMAN', 'CAPTAIN AMERICA', 'BATMAN V SUPERMAN', 'DC EXTENDED UNIVERSE', 'FEIGE', 'GEORGE', 'JL', 'ANIMATED UNIVERSE', 'BATMAN', 'SUPERMAN', 'NEW BATMAN ADVENTURES', 'BATMAN BEYOND', 'STATIC SHOCK', 'THE ZETA PROJECT', 'UN', 'LIMITED', 'WHOLESOME 100 RED', 'PUERTO RICAN', 'BLACK', 'NORSE', 'WONDER WOMAN', 'WONDER WOMAN', 'WAKANDIAN', 'GREEN LANTERN HORNET', 'WONDER WOMAN', 'LGBT', 'AFRICAN', 'SCI', 'FI', 'GREEN LANTERN', 'ASIAN', 'JEWISH', 'HEBREW', 'AMERICAN', 'X -', 'X - MEN', 'X - MEN', 'X - FAMILY', 'COVID', 'CARS', 'RATATOUILLE', 'THE INCREDIBLES', 'BLACK WIDOW', 'SUPERHERO', 'BLACK PANTHER', 'AMERICAN', 'JAPANESE', 'AVENGERS 2', '12', 'STAR WARS', 'LMUTTER', 'BABY YODA', 'CHILD', 'THE MANDALORIAN', 'BLACK PANTHER', 'CAPTAIN MARVEL', 'ENDGAME', 'INFINITY WAR', 'THE AVENGERS', 'AGE OF ULTRON', 'BLACK PANTHER', 'IRON MAN', 'CIVIL WAR', 'CAPTAIN MARVEL', 'CAPTAIN MARVEL', 'BLACK PANTHER', 'AVENGER', 'BP', 'AFRICAN AMERICAN', 'RACE', 'RACE', 'GENDER', 'BLACK PANTHER', 'BLACK', 'BLADE', 'ELEKTRA', 'CATWOMAN', 'ELEKTRA', 'CATWOMAN', 'THE WARRIORS', 'THE NEW WARRIORS', 'CATWOMAN', 'DAREDEVIL', 'ELEKTRA', 'CATWOMAN', 'GHOSTBUSTERS 2016', 'GHOSTBUSTERS', \"OCEAN ' S 8\", 'ALL', \"OCEAN ' S 8\", \"OCEAN ' S\", 'ELEKTRA', 'CATWOMAN', 'LGBT', 'STAR WARS', 'CHINESE', 'LGBT', 'STAR WARS', 'ASIANS', 'CAPTAIN MARVEL', 'IAN', 'THE ETERNALS', 'ANCIENT', 'SHANG - CHI', 'ALL', 'HAIL', 'THE', 'ANCIENT ONE', 'ANTI', 'TIBETAN', 'CHINESE', 'TIBETAN', 'LGBT', 'LGBT', 'CHINESE', 'DISNEY +', 'RAGNAROK', 'RAGNAROK', 'LGBT', 'LGBT', 'ETERNALS', 'LGBTQ', 'ETERNALS', 'THOR', 'LOVE AND THUNDER', 'LGBTQ', 'LGBT', 'LB', 'LGBT', 'LGBTQ', 'RUNAWAYS', 'LGBT', 'LATINA', 'RUNAWAYS', 'AWAYS', 'THOR 4', 'RAGNAROK', 'NORSE', 'NORSE', 'NORSE', 'DISNEY', 'CHINESE', 'VILLAIN', 'LGBT', 'FINN', 'THE RISE OF SKYWALKER', 'FINN', 'STAR WARS', 'BUDDHISM', 'IPHONE', 'DEADPOOL', 'DEADPOOL', 'COLOSSUS', 'COLOSSUS', 'COLOSSUS', 'COLOSSUS', 'COLOSSUS', 'COLOSSUS', '90S', 'XMEN', 'CAPTAIN MARVEL', 'LGBTQ', 'CHINESE', 'LGBTQ', 'ENDGAME', 'WICCAN', 'HULK', 'WANDA', 'YOUNG', 'YOUNG', 'RS', 'YOUNG', 'SPIDER - MAN', 'MA', 'BLACK PANTHER', 'CAPTAIN', 'INHUMANS', 'CLOAK AND DAGGER', 'AGENTS OF SHIELD', 'THE RUNAWAYS', 'ASIAN', 'ASIAN', 'THE INHUMANS', 'SHOW', 'IMAX', 'X - MEN', 'DAREDEVIL', 'JESSICA JONES', 'LUKE CAGE', 'IRON FIST', 'INHUMANS', 'NETFLIX', 'NETFLIX', 'AGENTS OF SHIELD', 'TINO', 'TINO', 'TINO', 'ETERNAL', 'AFRO - LATINAS', 'RAGNAROK', 'ASIAN', 'SHANG CHI', 'LATINO', 'DR STRANGE 2', 'MCU', 'ASIAN', 'GHOST RIDER', 'HISPANIC', 'INFINITY WAR', 'ENDGAME', 'INFINITY', 'BLACK']}\n",
            "\n",
            "{'Locaion': ['US', 'HOLLYWOOD', 'TIBET', 'NEW YORK', 'NEUSCHWANSTEIN', 'NYC', 'CHINA', 'THANOS', 'EUROPE', 'WAKANDA'], 'Organisation': ['SS', 'YOUNG AVENGERS', '- MEN', 'GL', 'FEIGE', 'WIDOW', 'TINE / SIDIOUS', 'MCU TV', \"CHARLIE ' S ANGELS\", 'II', 'JACK KIRBY', 'MEN', 'BLACK PANTHER', 'MARVEL TV', 'WANDAVISION', 'MCU', 'CCP', 'WAKANDA FOREVER', 'KYRIE', 'YI', 'DC', 'ISON IVY', 'NBA', 'BATMAN BEG', 'FLASH', 'MARVEL COMICS', 'HULU', 'MARVEL STUDIOS', 'IIRC', 'GUARDIANS', 'NETFLIX MARVEL', 'DISNEY / PIXAR', 'THE AUTHORITY', 'IMO', 'PANTHER', 'JUSTICE LEAGUE', 'NTW', 'MARVEL', 'THOR L & T', 'AOS', 'ICCAN', 'DISNEY', 'SUPERMAN', 'MULITVERSE OF MADNESS', 'CM', 'POS', 'ELEKTRA', 'STORMFRONT', 'RUN', 'WB', 'SA / BROWNSHIRTS', 'X - MEN', 'FOX', 'POE', 'BLACK BOLT', 'BLACK PANTHER PARTY', 'SOKOVIA', 'VISION', 'AVENGERS', 'DCEU', 'JGL', 'WAKANDAFOREVER', 'ETERNALS', 'PIXAR', 'THAN', 'PAL', 'MARVEL TELEVISION', 'FEIGE / MARVEL STUDIOS', 'DP', 'AAA', 'NETFLIX', 'BOSEMAN MCU', 'MINERVA', 'WRITE', 'MARVEL ENTERTAINMENT', 'DEADLINE', 'GUILLA', 'FF', 'OP', 'DC FILMS', 'SUE', 'BP', 'THE BOYS', '+ TV', 'RUNAWAYS', 'SOLO', 'THUNDERBOLTS'], 'Person Name': ['JAI CUNNINGHAM', 'CATWOMAN', 'ZOD', 'WONDER WOMAN', 'SHURI', 'SPIDERMAN', 'ANCIENT ONE', 'ROGUE', 'FINNP', 'ROY THOMAS', 'DAISY', 'STEEL', 'WONG', 'GENE COLAN', 'KEVIN', 'HI WADE', 'VAL', 'BLACK LEOPARD', 'DOCTOR STRANGE', 'DI', 'BLADE', 'SERSI', 'TREVOR', 'TESSA THOMPSON', 'FEIGE', 'ONE', 'WADE', 'RVEL', 'MANTIS', 'CLAYFACE', 'JACK KIRBY', 'TONY', 'CAPTAIN MARVEL', 'CHAVEZ', 'CHADWICK BOSEMAN', 'ZACK SNYDER', 'FAVREAU', 'SALDANA', 'CHRIS CLAREMONT', 'JOBS', 'STEVE JOBS', 'TILDA', 'BERMEJO', 'DAGGER', 'GEORGE', 'SPIDER', 'PHASTOS', 'ASTRID', 'MARK RUFFALO', 'DIANA JONES', 'BATMAN', 'SHANG CHI', 'BABY YO', 'TONY STARK', 'TESSA', 'THOMPSON', 'ANA HELSTROM', 'SALMA HAYEK', 'THE', 'STORM', 'HAWKEYE', 'FLASH', 'JESSICA JONES', 'LUIS', 'IVY', 'QUAKE', 'CHALL', '. NOLAN', 'SNOWFLAME', 'COULSON', 'HELENA BERTINELLI', 'KAL ’ EL', 'BEN KINGSLEY', 'STRANGE', 'MILES', 'BLACK WIDOW', 'HELA', 'BRUCE LEE', 'MAR - VELL', 'MARIA', 'WALTER ISAACSON', 'MAN', 'JOI HARRIS', 'YUKIO', 'GREEN ARROW', 'JIM SHOOTER', 'LOKI', 'DR', 'LUKE CAGE', 'SCARLETT', 'JERI HOGARTH', 'JOHNS', 'LOAK', 'TILDA SWINTON', 'FALCON', 'BALE', 'MORDO', 'JUST', 'HINES', 'JOI', 'SUPERMAN', 'IRON', 'GOD', 'HULK', 'BOSEMAN', 'HEATH LEDGER', 'GORILLA GRODD', 'LAUREN DONNER', 'MARK', 'CAROL', 'MAMOA', 'GEOFF JOHNS', 'CLARK', 'CHRISTIAN BALE', 'CHADWICK', 'PER', 'LUCAS', 'SER', 'SPIDEY', 'WAR MACHINE', 'ROBIN HOOD', 'CHAPEK', 'NOEL', 'JAI COURTNEY', 'PETER', 'CABLE', 'NICO MINORU', 'SHANG - CHI', 'REED RICHARDS', 'APOLLO', 'POE', 'AMERICA CHAVEZ', 'BATFLECK', 'SCOTT DERRICKSON', 'RUFFALO', 'MISS', 'FREEZE', 'CONSTANTINE', 'FINN', 'RYAN GEORGE', 'STAN', 'SHOOTER', 'KAROLINA DEAN', 'NATASHA', 'ROBERT DOWNEY JR', 'GREEN LANTERN', 'BEN AFFLECK', 'BUCKY', 'MOLLY', 'JOKER', 'IRON MAN', 'BANE', 'TYRONE JOHNSON', 'STAN LEE', 'SAM', 'KEVIN FEIGE', 'GHOST RIDER', 'HARLEY', 'GEMMA CHAN', 'THOR', 'YO - YO', 'VALKYRIE', 'GEORGE LUCAS', 'RICHARD DONNER', 'LOL', 'LASSETER', 'DEADPOOL', 'JAMES BOND', 'WESLEY SNIPES', 'ODIN', 'LE', 'CAP', 'SAM WORTHINGTON', 'TRUMP', 'KING', 'BALES', 'PERLMUTTER', 'MINERVA', 'NOLAN', 'BOB CHAPEK', 'CAPTAIN AMERICA', 'ZOE SALDANA', 'STEVE', 'BRUCE', 'BRIAN TYREE HENRY', 'BENEDICT CUMBERBATCH', 'ARROW', 'NICO', 'MILES GONZALO MORALES', 'STEVE ROGERS', 'HARRIS', 'KENNEDY', 'NICK FURY', 'CARRIE - ANNE MOSS', 'IKE', 'LEE', 'WANDA', 'SHINING KNIGHT', 'SCARLET WITCH', 'THANOS', 'CHEETAH', 'MILLER', 'MR FREEZE', 'MANDARIN', 'IGER', 'EJIOFOR', 'YI'], 'Miscellaneous': ['TIBETAN', 'CORONA', 'CATWOMAN', 'LGBTQ', 'WONDER WOMAN', 'AFRICAN', 'SPIDERMAN', 'ANCIENT ONE', 'DC CINEMATIC UNIVERSE', 'IRON FIST', 'YOUNG', 'BRITS', 'THE RUNAWAYS', 'ROBIN', 'ALIEN', 'NEW BATMAN ADVENTURES', 'RATATOUILLE', 'BLADE', 'CHILD', 'FEIGE', 'ENDGAME', 'CLAYFACE', 'AMERICAN', 'AVENGER', 'GREEN LANTERN HORNET', 'MEN', 'SUPERHERO', 'CAPTAIN MARVEL', 'BLACK PANTHER', 'THE MANDALORIAN', 'PTON', 'INHUMANS', 'NORSE', 'THOR 4', 'THE DARK KNIGHT RETURNS', 'MCU', 'WAKANDA FOREVER', 'GEORGE', 'DC', 'WAKANDIAN', 'BATMOBILE', 'BATMAN', 'VILLAIN', 'ALL', 'NOT RISES', 'SHANG CHI', 'TO', 'CHINESE', 'DP 2', 'BOSEMAN FOREVER', 'THE DARK KNIGHT RISES', 'JAPANESE', 'AFRO - LATINAS', 'LIMITED', 'WICCAN', 'IAN', 'THE', 'MCU DIVERSITY', 'X -', 'IMAX', 'BELIEVE', 'JESSICA JONES', 'SEMI', 'COVID', 'RUNAWAYS', 'RISE', 'THE ZETA PROJECT', 'FAR FROM HOME', 'CIVIL WAR', 'FI', 'GREEN', 'HEBREW', 'BLACK', 'FOX - MEN', 'MILES', 'ANTI', 'BLACK WIDOW', 'SHOW', 'WAKANDAN', 'KREE', 'MAN', 'W PLANET', 'THE AVENGERS', 'THE DARK KNIGHT', 'ACROSS GALAXY WITH', 'X - FAMILY', 'LUKE CAGE', 'RACE', 'MARVEL FORMULA', 'BATS', '90S', 'PANTHER', 'DAREDEVIL', 'AGENTS OF SHIELD', 'SPIDER - MAN', 'RAGNAROK', 'IPHONE', 'ASIAN', 'AWAYS', 'LATINA', 'TDK', 'NOLANBAT', 'ANIMATED UNIVERSE', 'BATMAN BEYOND', 'SHAZAM', 'DISNEY', 'SUPERMAN', 'MC', 'GHOSTBUSTERS', 'HULK', \"OCEAN ' S\", 'AGE OF ULTRON', 'GENDER', 'BABY YODA', 'ROCKSTAR', 'MORALES', 'CAPTAIN', 'LOVE AND THUNDER', 'THE ETERNALS', 'PTONITE', 'XMEN', 'ANCIENT', 'ELEKTRA', 'ASIANS', 'UN', 'THE NEW WARRIORS', 'PUERTO RICAN', 'ETERNAL', 'X - MEN', 'SHANG - CHI', 'BUDDHISM', 'THE INCREDIBLES', 'DISNEY +', 'THE RISE OF SKYWALKER', 'JL', 'INFINITY', 'DC EXTENDED UNIVERSE', 'BATMAN V SUPERMAN', 'FINN', \"OCEAN ' S 8\", 'RISES', 'AVENGERS', 'DARKSEID', 'GREEN LANTERN', 'ETERNALS', 'IRON MAN', 'GHOST RIDER', 'ANT - MAN 1', 'STAR WARS', 'HAIL', '11', 'LATINO', 'THE WARRIORS', 'THOR', 'CLOAK AND DAGGER', 'BAT', 'MILES MORALES', 'JEWISH', 'HISPANIC', 'WHOLESOME 100 RED', 'DC UNIVERSE', 'AVENGERS 2', 'DEADPOOL', 'SUPER HERO', 'TINO', 'NETFLIX', 'SCI', 'DR STRANGE 2', 'INFINITY WAR', 'DEADPOOL 2', 'CARS', 'CAPTAIN AMERICA', 'HUSH', '12', 'RS', 'LGBT', 'GHOSTBUSTERS 2016', 'COLOSSUS', 'EMMY', 'LB', 'STATIC SHOCK', 'MA', 'Z AL', 'WANDA', 'IRONMAN', 'BP', 'THE INHUMANS', 'AFRICAN AMERICAN', 'LMUTTER', 'CINEMATIC UNIVERSE'], 'Location': ['US', 'HOLLYWOOD', 'TIBET', 'NEW YORK', 'NEUSCHWANSTEIN', 'NYC', 'CHINA', 'THANOS', 'EUROPE', 'WAKANDA']}\n"
          ],
          "name": "stdout"
        }
      ]
    },
    {
      "cell_type": "code",
      "metadata": {
        "colab": {
          "base_uri": "https://localhost:8080/"
        },
        "id": "ceXbDf75Be23",
        "outputId": "09552c81-cf65-49bc-c9bd-c1fc7211b977"
      },
      "source": [
        "list_of_loc = final_dict['I-LOC']\n",
        "#list_of_org = final_dict['I-ORG']\n",
        "#list_of_person = final_dict['I-PER']\n",
        "#list_of_misc = final_dict['I-MISC']\n",
        "frequency = {}\n",
        "for loc in list_of_loc:\n",
        "  frequency[loc] = frequency.get(loc, 0) +1\n",
        "  print(frequency)"
      ],
      "execution_count": 88,
      "outputs": [
        {
          "output_type": "stream",
          "text": [
            "{'WAKANDA': 1}\n",
            "{'WAKANDA': 2}\n",
            "{'WAKANDA': 3}\n",
            "{'WAKANDA': 3, 'NYC': 1}\n",
            "{'WAKANDA': 4, 'NYC': 1}\n",
            "{'WAKANDA': 4, 'NYC': 1, 'EUROPE': 1}\n",
            "{'WAKANDA': 4, 'NYC': 1, 'EUROPE': 1, 'US': 1}\n",
            "{'WAKANDA': 4, 'NYC': 1, 'EUROPE': 1, 'US': 1, 'HOLLYWOOD': 1}\n",
            "{'WAKANDA': 4, 'NYC': 1, 'EUROPE': 1, 'US': 1, 'HOLLYWOOD': 1, 'NEUSCHWANSTEIN': 1}\n",
            "{'WAKANDA': 4, 'NYC': 1, 'EUROPE': 1, 'US': 1, 'HOLLYWOOD': 1, 'NEUSCHWANSTEIN': 1, 'CHINA': 1}\n",
            "{'WAKANDA': 4, 'NYC': 1, 'EUROPE': 1, 'US': 1, 'HOLLYWOOD': 1, 'NEUSCHWANSTEIN': 1, 'CHINA': 1, 'TIBET': 1}\n",
            "{'WAKANDA': 4, 'NYC': 1, 'EUROPE': 1, 'US': 1, 'HOLLYWOOD': 1, 'NEUSCHWANSTEIN': 1, 'CHINA': 2, 'TIBET': 1}\n",
            "{'WAKANDA': 4, 'NYC': 1, 'EUROPE': 1, 'US': 1, 'HOLLYWOOD': 1, 'NEUSCHWANSTEIN': 1, 'CHINA': 2, 'TIBET': 2}\n",
            "{'WAKANDA': 4, 'NYC': 1, 'EUROPE': 1, 'US': 1, 'HOLLYWOOD': 1, 'NEUSCHWANSTEIN': 1, 'CHINA': 3, 'TIBET': 2}\n",
            "{'WAKANDA': 4, 'NYC': 1, 'EUROPE': 1, 'US': 1, 'HOLLYWOOD': 1, 'NEUSCHWANSTEIN': 1, 'CHINA': 4, 'TIBET': 2}\n",
            "{'WAKANDA': 4, 'NYC': 1, 'EUROPE': 1, 'US': 1, 'HOLLYWOOD': 1, 'NEUSCHWANSTEIN': 1, 'CHINA': 5, 'TIBET': 2}\n",
            "{'WAKANDA': 4, 'NYC': 1, 'EUROPE': 1, 'US': 1, 'HOLLYWOOD': 1, 'NEUSCHWANSTEIN': 1, 'CHINA': 6, 'TIBET': 2}\n",
            "{'WAKANDA': 4, 'NYC': 1, 'EUROPE': 1, 'US': 1, 'HOLLYWOOD': 1, 'NEUSCHWANSTEIN': 1, 'CHINA': 7, 'TIBET': 2}\n",
            "{'WAKANDA': 4, 'NYC': 1, 'EUROPE': 1, 'US': 1, 'HOLLYWOOD': 2, 'NEUSCHWANSTEIN': 1, 'CHINA': 7, 'TIBET': 2}\n",
            "{'WAKANDA': 4, 'NYC': 1, 'EUROPE': 1, 'US': 1, 'HOLLYWOOD': 2, 'NEUSCHWANSTEIN': 1, 'CHINA': 8, 'TIBET': 2}\n",
            "{'WAKANDA': 4, 'NYC': 1, 'EUROPE': 1, 'US': 1, 'HOLLYWOOD': 2, 'NEUSCHWANSTEIN': 1, 'CHINA': 9, 'TIBET': 2}\n",
            "{'WAKANDA': 4, 'NYC': 1, 'EUROPE': 1, 'US': 1, 'HOLLYWOOD': 2, 'NEUSCHWANSTEIN': 1, 'CHINA': 10, 'TIBET': 2}\n",
            "{'WAKANDA': 4, 'NYC': 1, 'EUROPE': 1, 'US': 1, 'HOLLYWOOD': 2, 'NEUSCHWANSTEIN': 1, 'CHINA': 11, 'TIBET': 2}\n",
            "{'WAKANDA': 4, 'NYC': 1, 'EUROPE': 1, 'US': 1, 'HOLLYWOOD': 2, 'NEUSCHWANSTEIN': 1, 'CHINA': 12, 'TIBET': 2}\n",
            "{'WAKANDA': 4, 'NYC': 1, 'EUROPE': 1, 'US': 1, 'HOLLYWOOD': 2, 'NEUSCHWANSTEIN': 1, 'CHINA': 12, 'TIBET': 2, 'NEW YORK': 1}\n",
            "{'WAKANDA': 4, 'NYC': 1, 'EUROPE': 1, 'US': 1, 'HOLLYWOOD': 2, 'NEUSCHWANSTEIN': 1, 'CHINA': 13, 'TIBET': 2, 'NEW YORK': 1}\n",
            "{'WAKANDA': 4, 'NYC': 1, 'EUROPE': 1, 'US': 1, 'HOLLYWOOD': 2, 'NEUSCHWANSTEIN': 1, 'CHINA': 14, 'TIBET': 2, 'NEW YORK': 1}\n",
            "{'WAKANDA': 4, 'NYC': 1, 'EUROPE': 1, 'US': 1, 'HOLLYWOOD': 2, 'NEUSCHWANSTEIN': 1, 'CHINA': 15, 'TIBET': 2, 'NEW YORK': 1}\n",
            "{'WAKANDA': 5, 'NYC': 1, 'EUROPE': 1, 'US': 1, 'HOLLYWOOD': 2, 'NEUSCHWANSTEIN': 1, 'CHINA': 15, 'TIBET': 2, 'NEW YORK': 1}\n",
            "{'WAKANDA': 5, 'NYC': 1, 'EUROPE': 1, 'US': 1, 'HOLLYWOOD': 3, 'NEUSCHWANSTEIN': 1, 'CHINA': 15, 'TIBET': 2, 'NEW YORK': 1}\n",
            "{'WAKANDA': 5, 'NYC': 1, 'EUROPE': 1, 'US': 1, 'HOLLYWOOD': 3, 'NEUSCHWANSTEIN': 1, 'CHINA': 15, 'TIBET': 2, 'NEW YORK': 1, 'THANOS': 1}\n"
          ],
          "name": "stdout"
        }
      ]
    },
    {
      "cell_type": "code",
      "metadata": {
        "id": "xAPkr7WimE1o"
      },
      "source": [
        "import pandas as pd\n",
        "data = {'Location': list_of_loc,\n",
        "        'Count': [1,2,3,4,5,6,7,8,9,10,11,12,13,14,15]\n",
        "        }\n",
        "\n",
        "df = pd.DataFrame(data, columns = ['Location', 'Count'])\n",
        "\n",
        "print (df)"
      ],
      "execution_count": null,
      "outputs": []
    },
    {
      "cell_type": "code",
      "metadata": {
        "id": "Hl3Mxs7smE-1"
      },
      "source": [
        ""
      ],
      "execution_count": 95,
      "outputs": []
    },
    {
      "cell_type": "code",
      "metadata": {
        "id": "sWktOYlmmFH-"
      },
      "source": [
        ""
      ],
      "execution_count": null,
      "outputs": []
    },
    {
      "cell_type": "code",
      "metadata": {
        "id": "T5nkE2QLmFRQ"
      },
      "source": [
        ""
      ],
      "execution_count": null,
      "outputs": []
    },
    {
      "cell_type": "code",
      "metadata": {
        "id": "QdtF4DPEmFZj"
      },
      "source": [
        ""
      ],
      "execution_count": null,
      "outputs": []
    },
    {
      "cell_type": "code",
      "metadata": {
        "id": "TKgrsJfCmFhq"
      },
      "source": [
        ""
      ],
      "execution_count": null,
      "outputs": []
    },
    {
      "cell_type": "code",
      "metadata": {
        "colab": {
          "base_uri": "https://localhost:8080/"
        },
        "id": "uVlCBxztbS4D",
        "outputId": "ae56eb4b-11b9-4f4a-86f3-8caa42261d97"
      },
      "source": [
        "#print(master_dict)"
      ],
      "execution_count": 40,
      "outputs": [
        {
          "output_type": "stream",
          "text": [
            "{'I-LOC': ['CHENNAI', 'CHENNAI', 'INDIA', 'CHENNAI', 'BANGLORE'], 'I-ORG': ['TECHNOFORTE'], 'I-PER': ['AJAY', 'AJAY', 'AJAY', 'SUBRAJA', 'SUBRAJA'], 'B-LOC': [], 'B-ORG': [], 'B-PER': []}\n"
          ],
          "name": "stdout"
        }
      ]
    },
    {
      "cell_type": "code",
      "metadata": {
        "id": "JuaFf4tzYdp8"
      },
      "source": [
        "#comment_list=['Hi, I am ajay and I am from India. I work for Technoforte located in Chennai.', \n",
        "#'I am a huge fan of marvel and my favourite character is Subraja. Subraja is from Banglore' ]"
      ],
      "execution_count": 37,
      "outputs": []
    },
    {
      "cell_type": "code",
      "metadata": {
        "colab": {
          "base_uri": "https://localhost:8080/"
        },
        "id": "ngf1-dnPZZEh",
        "outputId": "5e596935-de35-4ab1-9673-60fee67c03c6"
      },
      "source": [
        "#outputs[0][6]"
      ],
      "execution_count": 33,
      "outputs": [
        {
          "output_type": "execute_result",
          "data": {
            "text/plain": [
              "<tf.Tensor: shape=(9,), dtype=float32, numpy=\n",
              "array([-0.7641342 , -2.4077516 , -2.0843105 , -3.2465644 ,  0.10769157,\n",
              "       -2.4875414 ,  1.225174  , -1.9893391 ,  7.9986925 ], dtype=float32)>"
            ]
          },
          "metadata": {
            "tags": []
          },
          "execution_count": 33
        }
      ]
    },
    {
      "cell_type": "code",
      "metadata": {
        "colab": {
          "base_uri": "https://localhost:8080/",
          "height": 35
        },
        "id": "TJtjlgAoZmnm",
        "outputId": "a8c44888-47e9-4f85-b250-d7e5c00bfd5b"
      },
      "source": [
        "#label_list[8]"
      ],
      "execution_count": 34,
      "outputs": [
        {
          "output_type": "execute_result",
          "data": {
            "application/vnd.google.colaboratory.intrinsic+json": {
              "type": "string"
            },
            "text/plain": [
              "'I-LOC'"
            ]
          },
          "metadata": {
            "tags": []
          },
          "execution_count": 34
        }
      ]
    },
    {
      "cell_type": "code",
      "metadata": {
        "colab": {
          "base_uri": "https://localhost:8080/"
        },
        "id": "4vIISZiiaJ1h",
        "outputId": "ec79d0eb-6fb6-488f-8e78-de1a0e614888"
      },
      "source": [
        "#sequence,tokens"
      ],
      "execution_count": 35,
      "outputs": [
        {
          "output_type": "execute_result",
          "data": {
            "text/plain": [
              "('I am Ajay from Chennai',\n",
              " ['[CLS]', 'I', 'am', 'A', '##jay', 'from', 'Chennai', '[SEP]'])"
            ]
          },
          "metadata": {
            "tags": []
          },
          "execution_count": 35
        }
      ]
    },
    {
      "cell_type": "code",
      "metadata": {
        "colab": {
          "base_uri": "https://localhost:8080/"
        },
        "id": "4vJfTM7OaZsp",
        "outputId": "b808cb1e-7dcb-41e3-aafb-c539c08237db"
      },
      "source": [
        "#predictions.numpy()[0]"
      ],
      "execution_count": 36,
      "outputs": [
        {
          "output_type": "execute_result",
          "data": {
            "text/plain": [
              "array([0, 0, 0, 4, 4, 0, 8, 0])"
            ]
          },
          "metadata": {
            "tags": []
          },
          "execution_count": 36
        }
      ]
    }
  ]
}